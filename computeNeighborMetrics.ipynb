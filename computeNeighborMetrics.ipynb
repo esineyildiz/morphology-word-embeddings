{
  "nbformat": 4,
  "nbformat_minor": 0,
  "metadata": {
    "colab": {
      "provenance": []
    },
    "kernelspec": {
      "name": "python3",
      "display_name": "Python 3"
    },
    "language_info": {
      "name": "python"
    }
  },
  "cells": [
    {
      "cell_type": "code",
      "execution_count": null,
      "metadata": {
        "id": "0ruLfL-J4r8J"
      },
      "outputs": [],
      "source": [
        "import glob\n",
        "import pickle\n",
        "import pandas as pd\n",
        "from func_emb_metrics import func_emb_metrics\n",
        "\n",
        "# Compute embedding metrics\n",
        "# This script processes the output from the morpheme vector pipeline:\n",
        "# 1) extract the predicted neighbours\n",
        "# 2) saves as an excel file\n",
        "# 3) evaluates neighbors using the func_emb_metrics function\n",
        "\n",
        "files = glob.glob('morphoEmbVec*.pkl')\n",
        "fileName = files[0]  # CHOOSE WHICH ONE YOU WANT TO EVLUATE\n",
        "print(f\"Processing: {fileName}\")\n",
        "\n",
        "with open(fileName, 'rb') as f:\n",
        "    data = pickle.load(f)\n",
        "\n",
        "predictedNeighborsAll = data['predictedNeighborsAll']\n",
        "\n",
        "n = len(predictedNeighborsAll)\n",
        "expectedForms = []\n",
        "neighborsTop10 = []\n",
        "\n",
        "for i in range(n):\n",
        "    expectedForms.append(predictedNeighborsAll[i]['testPlural'])\n",
        "    theseNeighbors = predictedNeighborsAll[i]['neighbors']\n",
        "    row = []\n",
        "    for j in range(10):\n",
        "        if j < len(theseNeighbors):\n",
        "            row.append(theseNeighbors[j])\n",
        "        else:\n",
        "            row.append('')\n",
        "    neighborsTop10.append(row)\n",
        "\n",
        "neighborHeaders = [f'Neighbor_{x+1}' for x in range(10)]\n",
        "\n",
        "# Create table\n",
        "data_dict = {'Expected': expectedForms}\n",
        "for i, header in enumerate(neighborHeaders):\n",
        "    data_dict[header] = [row[i] for row in neighborsTop10]\n",
        "\n",
        "T = pd.DataFrame(data_dict)\n",
        "\n",
        "# Save as excel\n",
        "baseName = fileName.replace('morphoEmbVec', '').replace('.pkl', '')\n",
        "tableName = f'predNeighbors{baseName}.xlsx'\n",
        "print(f\"Saving table: {tableName}\")\n",
        "T.to_excel(tableName, index=False)\n",
        "\n",
        "# Call the metrics function (Turkish as an example)\n",
        "t1_tr, t10_tr, rank_tr = func_emb_metrics(tableName)\n",
        "print(f'Turkish Top-1: {t1_tr*100:.2f}%, Top-10: {t10_tr*100:.2f}%, Mean Rank: {rank_tr:.2f}')"
      ]
    }
  ]
}