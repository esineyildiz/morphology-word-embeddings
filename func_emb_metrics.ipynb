{
  "nbformat": 4,
  "nbformat_minor": 0,
  "metadata": {
    "colab": {
      "provenance": []
    },
    "kernelspec": {
      "name": "python3",
      "display_name": "Python 3"
    },
    "language_info": {
      "name": "python"
    }
  },
  "cells": [
    {
      "cell_type": "code",
      "execution_count": null,
      "metadata": {
        "id": "2HgZW86W3aKm"
      },
      "outputs": [],
      "source": [
        "import pandas as pd\n",
        "import numpy as np\n",
        "%%writefile func_emb_metrics.py\n",
        "\n",
        "def func_emb_metrics(xlsxFile):\n",
        "    \"\"\"\n",
        "    FUNC_EMB_METRICS calculates Top-1, Top-10, and Mean Rank from prediction results.\n",
        "\n",
        "    Input:\n",
        "        xlsxFile - Excel file containing 'Expected' column and 10 nearest neighbors\n",
        "\n",
        "    Output:\n",
        "        top1     - proportion of correct words ranked at position 1\n",
        "        top10    - proportion of correct words ranked in top 10\n",
        "        meanRank - average rank of correct words\n",
        "    \"\"\"\n",
        "\n",
        "    T = pd.read_excel(xlsxFile)\n",
        "\n",
        "    # Print columns to debug\n",
        "    print(f\"Columns in file: {T.columns.tolist()}\")\n",
        "\n",
        "    expected = T.iloc[:, 0]  # First column\n",
        "    myNeighbors = T.iloc[:, 1:].values  # all columns after the first\n",
        "\n",
        "    n = len(T)\n",
        "    top1Count = 0\n",
        "    top10Count = 0\n",
        "    ranks = np.zeros(n)\n",
        "\n",
        "    for i in range(n):\n",
        "        currentExpected = expected[i]\n",
        "        currentNeighbors = myNeighbors[i, :]\n",
        "\n",
        "        # Remove empty entries\n",
        "        currentNeighbors = [n for n in currentNeighbors if isinstance(n, str) and n != '']\n",
        "\n",
        "        # Find rank of expected form\n",
        "        matchIdx = []\n",
        "        for j, neighbor in enumerate(currentNeighbors):\n",
        "            if currentExpected.lower() == neighbor.lower():\n",
        "                matchIdx.append(j + 1)\n",
        "\n",
        "        if len(matchIdx) > 0:\n",
        "            if matchIdx[0] == 1:\n",
        "                top1Count = top1Count + 1\n",
        "            top10Count = top10Count + 1\n",
        "            ranks[i] = matchIdx[0]\n",
        "        else:\n",
        "            ranks[i] = np.nan  # mark as not found\n",
        "\n",
        "    # Compute metrics\n",
        "    top1Acc = top1Count / n\n",
        "    top10Acc = top10Count / n\n",
        "    meanRank = np.nanmean(ranks)\n",
        "\n",
        "    return top1Acc, top10Acc, meanRank"
      ]
    }
  ]
}